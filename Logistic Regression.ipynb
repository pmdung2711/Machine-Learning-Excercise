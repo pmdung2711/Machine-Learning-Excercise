{
 "cells": [
  {
   "cell_type": "code",
   "execution_count": 1,
   "metadata": {},
   "outputs": [],
   "source": [
    "#logistic regression"
   ]
  },
  {
   "cell_type": "code",
   "execution_count": 2,
   "metadata": {},
   "outputs": [],
   "source": [
    "import numpy as np\n",
    "import csv\n",
    "import matplotlib.pyplot as plt\n"
   ]
  },
  {
   "cell_type": "code",
   "execution_count": 3,
   "metadata": {},
   "outputs": [],
   "source": [
    "def load_data(data_path):\n",
    "    data_set = np.genfromtxt(data_path, delimiter=',')\n",
    "    return data_set"
   ]
  },
  {
   "cell_type": "code",
   "execution_count": 4,
   "metadata": {},
   "outputs": [],
   "source": [
    "def visualize_data(data, label_x, label_y, label_pos, label_neg):\n",
    "    #get label \n",
    "    neg = data[:,2] == 0\n",
    "    pos = data[:,2] == 1\n",
    "    \n",
    "    plt.scatter(data[pos][:,0], data[pos][:,1], c='g', s=60, linewidth=2, label=label_pos)\n",
    "    plt.scatter(data[neg][:,0], data[neg][:,1], c='r', s=60, label=label_neg)\n",
    "    plt.xlabel(label_x)\n",
    "    plt.ylabel(label_y)\n",
    "    plt.legend(frameon= True, fancybox = True);\n",
    "    plt.show()"
   ]
  },
  {
   "cell_type": "code",
   "execution_count": 5,
   "metadata": {},
   "outputs": [],
   "source": [
    "def plot_decision_boundary(X, Y, theta, title, label_x, label_y, label_pos, label_neg):\n",
    "    #get label\n",
    "    m=X.shape[1]\n",
    "    X=X.T\n",
    "    Y=Y.T\n",
    "    theta = theta.T\n",
    "    neg = (Y == 0).reshape(m,1)\n",
    "    pos = (Y == 1).reshape(m,1)\n",
    "    \n",
    "    \n",
    "    plt.scatter(X[pos[:,0],1],X[pos[:,0],2], c=\"g\", s = 60, label=label_pos)\n",
    "    plt.scatter(X[neg[:,0],1],X[neg[:,0],2], c=\"r\", s = 60, label=label_neg)\n",
    "    \n",
    "    x_value= np.array([np.min(X[:,1]),np.max(X[:,1])])\n",
    "    y_value=-(theta[0] +theta[1]*x_value)/theta[2]\n",
    "    plt.plot(x_value,y_value, \"b\")\n",
    "    plt.title(title)\n",
    "    plt.xlabel(\"Exam 1 score\")\n",
    "    plt.ylabel(\"Exam 2 score\")\n",
    "    plt.legend(frameon= True, fancybox = True)\n",
    "    plt.show()"
   ]
  },
  {
   "cell_type": "code",
   "execution_count": 6,
   "metadata": {},
   "outputs": [],
   "source": [
    "def sigmoid(z):\n",
    "    \"\"\"\n",
    "    return the sigmoid of z\n",
    "    z: number, matrix, vector, etc.\n",
    "    \"\"\"\n",
    "    return 1 / (1 + np.exp(-z))"
   ]
  },
  {
   "cell_type": "code",
   "execution_count": 7,
   "metadata": {},
   "outputs": [],
   "source": [
    "def initialize_parameters(dim):\n",
    "    theta = np.zeros((1, dim))\n",
    "    return theta"
   ]
  },
  {
   "cell_type": "code",
   "execution_count": 8,
   "metadata": {},
   "outputs": [],
   "source": [
    "def featureNormalization(X):\n",
    "    mean = np.mean(X, axis = 0)\n",
    "    std = np.std(X, axis=0)\n",
    "    X_norm = (X-mean)/std\n",
    "    return X_norm, mean, std"
   ]
  },
  {
   "cell_type": "code",
   "execution_count": 9,
   "metadata": {},
   "outputs": [],
   "source": [
    "def compute_cost_and_gradient(X, Y, theta):\n",
    "    \n",
    "    m = X.shape[1]\n",
    "    \n",
    "    #make prob predictions\n",
    "    h = sigmoid(np.dot(theta, X))\n",
    "    \n",
    "    #Compute Cost\n",
    "    logprobs = np.multiply(np.log(h), Y) + np.multiply(np.log(1-h), 1-Y)\n",
    "    cost = - (1/m) * np.sum(logprobs)\n",
    "    \n",
    "    #convert to number. Example: [[1]] --> 1\n",
    "    cost = float(np.squeeze(cost))\n",
    "    \n",
    "    #Compute gradient\n",
    "    grad = (1/m)*np.dot(h-Y, X.transpose())\n",
    "    \n",
    "    return cost, grad"
   ]
  },
  {
   "cell_type": "code",
   "execution_count": 10,
   "metadata": {},
   "outputs": [],
   "source": [
    "def gradient(X, Y, theta):\n",
    "    m = X.shape[1]\n",
    "    h = sigmoid(np.dot(theta, X))\n",
    "\n",
    "\n",
    "    dtheta = (1/m)*np.dot(h-Y, X.T)\n",
    "\n",
    "    return dtheta"
   ]
  },
  {
   "cell_type": "code",
   "execution_count": 11,
   "metadata": {},
   "outputs": [],
   "source": [
    "def optimize(X,Y, theta, num_iterations = 10000, learning_rate=0.01):\n",
    "    costs = []\n",
    "    m = X.shape[1]\n",
    "    for i in range(num_iterations):\n",
    "        \n",
    "        #compute cost and gradient\n",
    "        J, grad= compute_cost_and_gradient(X,Y,theta)\n",
    "        \n",
    "        #update theta\n",
    "        theta = theta - learning_rate*grad\n",
    "        \n",
    "        costs.append(J)\n",
    "            \n",
    "            \n",
    "    return theta, costs\n"
   ]
  },
  {
   "cell_type": "code",
   "execution_count": 12,
   "metadata": {},
   "outputs": [],
   "source": [
    "def predict(theta, X):\n",
    "    prediction = sigmoid(np.dot(theta, X))\n",
    "    return prediction"
   ]
  },
  {
   "cell_type": "code",
   "execution_count": 13,
   "metadata": {},
   "outputs": [
    {
     "data": {
      "image/png": "[encoded data removed]",
      "text/plain": [
       "<Figure size 432x288 with 1 Axes>"
      ]
     },
     "metadata": {
      "needs_background": "light"
     },
     "output_type": "display_data"
    },
    {
     "name": "stdout",
     "output_type": "stream",
     "text": [
      "----Without normalization----\n",
      "cost with theta (0,0): 0.6931471805599453\n",
      "gradient with theta (0,0): [[ -0.1        -12.00921659 -11.26284221]]\n",
      "----Feature Normalization----\n",
      "cost with theta (0,0): 0.6931471805599453\n",
      "gradient with theta (0,0): [[-0.1        -0.28122914 -0.25098615]]\n"
     ]
    },
    {
     "data": {
      "image/png": "[encoded data removed]",
      "text/plain": [
       "<Figure size 432x288 with 1 Axes>"
      ]
     },
     "metadata": {
      "needs_background": "light"
     },
     "output_type": "display_data"
    },
    {
     "name": "stdout",
     "output_type": "stream",
     "text": [
      "Theta after gradient descent:  [[1.65947664 3.8670477  3.60347302]]\n"
     ]
    },
    {
     "data": {
      "image/png": "[encoded data removed]",
      "text/plain": [
       "<Figure size 432x288 with 1 Axes>"
      ]
     },
     "metadata": {
      "needs_background": "light"
     },
     "output_type": "display_data"
    },
    {
     "name": "stdout",
     "output_type": "stream",
     "text": [
      "Predict with sample scores, Pass proba:  0.31487597172039383\n"
     ]
    }
   ],
   "source": [
    "if __name__ == \"__main__\":\n",
    "    data_path = 'data2.csv'\n",
    "    data_set = load_data(data_path)\n",
    "    visualize_data(data_set, 'Exam 1 score', 'Exam 2 score', 'Pass', 'Fail')\n",
    "    \n",
    "    #load training input to matrix X\n",
    "    X_orgs = data_set[:, 0:2]\n",
    "\n",
    "    #add 1's column to X\n",
    "    m = X_orgs.shape[0]\n",
    "    one = np.ones((X_orgs.shape[0], 1))\n",
    "    X = np.concatenate((one, X_orgs), axis = 1)\n",
    "    X = X.T\n",
    "    \n",
    "    #load label to matrix X\n",
    "    Y = data_set[:, 2].reshape((1,X.shape[1]))\n",
    "\n",
    "    #initialize the theta\n",
    "    theta = initialize_parameters(X.shape[0])\n",
    "    # X * theta ---> y \n",
    "    # dim X : [nx+1, m]\n",
    "    # dim Y : [1, m]\n",
    "    # dim theta : [1, nx+1]\n",
    "    \n",
    "    \n",
    "    #check cost and gradient \n",
    "    print(\"----Without normalization----\")\n",
    "    J, grad = compute_cost_and_gradient(X, Y, theta)\n",
    "    print(\"cost with theta (0,0):\",J)\n",
    "    print(\"gradient with theta (0,0):\",grad)\n",
    "    \n",
    "    #feature normalization\n",
    "    \n",
    "    X_norm, X_mean, X_std = featureNormalization(X_orgs)\n",
    "    X_norm = np.concatenate((one, X_norm), axis = 1)\n",
    "    X_norm = X_norm.T\n",
    "    \n",
    "    #check cost and gradient \n",
    "    J, grad = compute_cost_and_gradient(X_norm, Y, theta)\n",
    "    print(\"----Feature Normalization----\")\n",
    "    print(\"cost with theta (0,0):\",J)\n",
    "    print(\"gradient with theta (0,0):\",grad)\n",
    "    \n",
    "    \n",
    "    #optimize theta \n",
    "    theta, costs = optimize(X_norm, Y, theta, 400, 1)\n",
    "    plt.plot(costs)\n",
    "    plt.xlabel(\"Iterations\")\n",
    "    plt.ylabel(\"Cost\")\n",
    "    plt.title(\"Cost function using Gradient Descent\")\n",
    "    plt.show()\n",
    "    \n",
    "    #print theta \n",
    "    print(\"Theta after gradient descent: \", theta)\n",
    "    \n",
    "    #plot decision boundary\n",
    "    plot_decision_boundary(X_norm, Y, theta, \"Logistic Regression\", \"Exam 1 score\", \"Exam 2 score\", \"Pass\", \"Fail\")\n",
    "    \n",
    "    #predict \n",
    "    x = np.array([[40,80]])\n",
    "    x_norm = (x - X_mean)/X_std\n",
    "    x_norm = np.append(np.ones(1), x_norm)\n",
    "    x_norm = (x_norm.reshape((1, x_norm.shape[0]))).T\n",
    "    print(\"Predict with sample scores, Pass proba: \", predict(theta, x_norm)[0][0])\n",
    "    "
   ]
  }
 ],
 "metadata": {
  "kernelspec": {
   "display_name": "Python 3",
   "language": "python",
   "name": "python3"
  },
  "language_info": {
   "codemirror_mode": {
    "name": "ipython",
    "version": 3
   },
   "file_extension": ".py",
   "mimetype": "text/x-python",
   "name": "python",
   "nbconvert_exporter": "python",
   "pygments_lexer": "ipython3",
   "version": "3.8.3"
  }
 },
 "nbformat": 4,
 "nbformat_minor": 4
}
