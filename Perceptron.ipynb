{
 "cells": [
  {
   "cell_type": "code",
   "execution_count": 1,
   "metadata": {},
   "outputs": [],
   "source": [
    "import numpy as np\n",
    "import csv\n",
    "import matplotlib.pyplot as plt"
   ]
  },
  {
   "cell_type": "code",
   "execution_count": 2,
   "metadata": {},
   "outputs": [],
   "source": [
    "def load_data(data_path):\n",
    "    data_set = np.genfromtxt(data_path, delimiter=',')\n",
    "    return data_set"
   ]
  },
  {
   "cell_type": "code",
   "execution_count": 3,
   "metadata": {},
   "outputs": [],
   "source": [
    "def visualize_data(data, label_x, label_y, label_pos, label_neg):\n",
    "    #get label \n",
    "    neg = data[:,2] == -1\n",
    "    pos = data[:,2] == 1\n",
    "    \n",
    "    plt.scatter(data[pos][:,0], data[pos][:,1], c='g', s=30, label=label_pos)\n",
    "    plt.scatter(data[neg][:,0], data[neg][:,1], c='r', s=30, label=label_neg)\n",
    "    plt.xlabel(label_x)\n",
    "    plt.ylabel(label_y)\n",
    "    plt.legend(frameon= True, fancybox = True);\n",
    "    plt.show()"
   ]
  },
  {
   "cell_type": "code",
   "execution_count": 4,
   "metadata": {},
   "outputs": [],
   "source": [
    "def plot_decision_boundary(X, Y, theta, title, label_x, label_y, label_pos, label_neg):\n",
    "    #get label\n",
    "    m=X.shape[1]\n",
    "    X=X.T\n",
    "    Y=Y.T\n",
    "    theta = theta.T\n",
    "    neg = (Y == -1).reshape(m,1)\n",
    "    pos = (Y == 1).reshape(m,1)\n",
    "    \n",
    "    \n",
    "    plt.scatter(X[pos[:,0],1],X[pos[:,0],2], c=\"g\", s = 60, label=label_pos)\n",
    "    plt.scatter(X[neg[:,0],1],X[neg[:,0],2], c=\"r\", s = 60, label=label_neg)\n",
    "    \n",
    "    x_value= np.array([np.min(X[:,1]),np.max(X[:,1])])\n",
    "    y_value=-(theta[0] +theta[1]*x_value)/theta[2]\n",
    "\n",
    "    plt.plot(x_value, y_value, \"b\")\n",
    "    plt.title(title)\n",
    "    plt.xlabel(label_x)\n",
    "    plt.ylabel(label_y)\n",
    "    plt.legend(frameon= True, fancybox = True)\n",
    "    plt.show()"
   ]
  },
  {
   "cell_type": "code",
   "execution_count": 5,
   "metadata": {},
   "outputs": [],
   "source": [
    "def predict(w, x):\n",
    "    #return -1 if <0, 0 if =0, 1 if >0\n",
    "    return np.sign(np.dot(w, x))"
   ]
  },
  {
   "cell_type": "code",
   "execution_count": 6,
   "metadata": {},
   "outputs": [],
   "source": [
    "def hasConverged(X, y, w):\n",
    "    return np.array_equal(predict(w,X), y)"
   ]
  },
  {
   "cell_type": "code",
   "execution_count": 7,
   "metadata": {},
   "outputs": [],
   "source": [
    "def perceptron(X, y, w, max_iteration=1000):\n",
    "    #get dimension and number of data points\n",
    "    n , m = X.shape[0], X.shape[1]\n",
    "    iteration = 0\n",
    "    #loop until converge or reach maximum interations\n",
    "    print(\"Looping....\")\n",
    "    while True:\n",
    "        #for every data point\n",
    "        for i in range(m):\n",
    "            #get a data point \n",
    "            xi = X[:,i].reshape(n,1)\n",
    "            yi = y[0,i]\n",
    "            #check if the data point has correct label\n",
    "            if predict(w, xi)[0][0] != yi:\n",
    "                #if not, update the weights\n",
    "                w = w + np.dot(yi, xi.T)\n",
    "        \n",
    "        #check converge\n",
    "        if hasConverged(X, y, w):\n",
    "            print(\"There aren't any mispoints, break the loop\")\n",
    "            break\n",
    "        \n",
    "        #update the count\n",
    "        iteration +=1\n",
    "        \n",
    "        #if reach max iteration, break\n",
    "        if(iteration == max_iteration):\n",
    "            print(\"Reach maximum iterations, break the loop\")\n",
    "            break\n",
    "    \n",
    "    return w"
   ]
  },
  {
   "cell_type": "code",
   "execution_count": 8,
   "metadata": {},
   "outputs": [
    {
     "data": {
      "image/png": "[encoded data removed]",
      "text/plain": [
       "<Figure size 432x288 with 1 Axes>"
      ]
     },
     "metadata": {
      "needs_background": "light"
     },
     "output_type": "display_data"
    },
    {
     "name": "stdout",
     "output_type": "stream",
     "text": [
      "(3, 20)\n",
      "(1, 20)\n",
      "w shape:  (1, 3)\n",
      "Looping....\n",
      "There aren't any mispoints, break the loop\n",
      "weights:  [[ 2.         -3.70639369  4.07118694]]\n",
      "Label of x:  True\n"
     ]
    },
    {
     "data": {
      "image/png": "[encoded data removed]",
      "text/plain": [
       "<Figure size 432x288 with 1 Axes>"
      ]
     },
     "metadata": {
      "needs_background": "light"
     },
     "output_type": "display_data"
    }
   ],
   "source": [
    "if __name__ == \"__main__\":\n",
    "    #Create random dataset\n",
    "    data_path = 'data3.csv'\n",
    "    data_set = load_data(data_path)\n",
    "    visualize_data(data_set, 'Feature 1', 'Feature 2', 'Positive', 'Negative')\n",
    "    \n",
    "    #load training input to matrix X\n",
    "    X_orgs = data_set[:, 0:2]\n",
    "\n",
    "    #add 1's column to X\n",
    "    m = X_orgs.shape[0]\n",
    "    one = np.ones((X_orgs.shape[0], 1))\n",
    "    X = np.concatenate((one, X_orgs), axis = 1)\n",
    "    X = X.T\n",
    "    \n",
    "    #load label to matrix X\n",
    "    Y = data_set[:, 2].reshape((1,X.shape[1]))\n",
    "    \n",
    "    #print shape of data\n",
    "    print(X.shape)\n",
    "    print(Y.shape)\n",
    "    \n",
    "    #initizlize weights\n",
    "    #w = np.random.randn(1,X.shape[0])*0.01\n",
    "    w = np.zeros((1, X.shape[0]))\n",
    "    print(\"w shape: \",w.shape)\n",
    "    \n",
    "    #compute the weights \n",
    "    w = perceptron(X,Y,w, 1000)\n",
    "    \n",
    "    print(\"weights: \",w)\n",
    "    \n",
    "    #predict \n",
    "    x = np.array([[1,2.220960568758366,2.1957972786471043]])\n",
    "    print(\"Label of x: \", predict(w, x.T)[0][0] > 0)\n",
    "    \n",
    "    #plot the decision boundary \n",
    "    plot_decision_boundary(X, Y, w, \"Perceptron\", \"Feature 1\", \"Feature 2\", \"Positive\", \"Negative\")\n",
    "\n",
    "\n",
    "    \n",
    "    "
   ]
  }
 ],
 "metadata": {
  "kernelspec": {
   "display_name": "Python 3",
   "language": "python",
   "name": "python3"
  },
  "language_info": {
   "codemirror_mode": {
    "name": "ipython",
    "version": 3
   },
   "file_extension": ".py",
   "mimetype": "text/x-python",
   "name": "python",
   "nbconvert_exporter": "python",
   "pygments_lexer": "ipython3",
   "version": "3.8.3"
  }
 },
 "nbformat": 4,
 "nbformat_minor": 4
}
